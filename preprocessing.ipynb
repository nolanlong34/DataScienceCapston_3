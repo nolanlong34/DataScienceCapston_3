{
 "cells": [
  {
   "cell_type": "code",
   "execution_count": 10,
   "metadata": {},
   "outputs": [],
   "source": [
    "import pandas as pd\n",
    "from sklearn.preprocessing import StandardScaler\n",
    "from sklearn.model_selection import train_test_split"
   ]
  },
  {
   "cell_type": "code",
   "execution_count": 11,
   "metadata": {},
   "outputs": [
    {
     "data": {
      "text/plain": [
       "(7032, 21)"
      ]
     },
     "execution_count": 11,
     "metadata": {},
     "output_type": "execute_result"
    }
   ],
   "source": [
    "telco_df = pd.read_csv('clean_telco.csv').dropna()\n",
    "telco_df.shape"
   ]
  },
  {
   "cell_type": "code",
   "execution_count": 12,
   "metadata": {},
   "outputs": [
    {
     "data": {
      "text/plain": [
       "(7032,)"
      ]
     },
     "execution_count": 12,
     "metadata": {},
     "output_type": "execute_result"
    }
   ],
   "source": [
    "#create one hot encode for churn column\n",
    "dummy_churn = pd.get_dummies(telco_df['Churn'],dtype= float)\n",
    "Y = dummy_churn['Yes']\n",
    "Y.shape"
   ]
  },
  {
   "cell_type": "code",
   "execution_count": 13,
   "metadata": {},
   "outputs": [
    {
     "data": {
      "text/plain": [
       "(7032, 16)"
      ]
     },
     "execution_count": 13,
     "metadata": {},
     "output_type": "execute_result"
    }
   ],
   "source": [
    "#creates new dataframe for catagorical columns\n",
    "catagorical_df = telco_df\n",
    "catagorical_df = catagorical_df.drop(['Churn','customerID','tenure','MonthlyCharges','TotalCharges'], axis = 1)\n",
    "catagorical_df.shape"
   ]
  },
  {
   "cell_type": "code",
   "execution_count": 14,
   "metadata": {},
   "outputs": [
    {
     "data": {
      "text/plain": [
       "(7032, 42)"
      ]
     },
     "execution_count": 14,
     "metadata": {},
     "output_type": "execute_result"
    }
   ],
   "source": [
    "#one hot encode catagorical columns\n",
    "cat_one_hot_df = pd.get_dummies(catagorical_df, dtype= float)\n",
    "cat_one_hot_df.reset_index(drop=True, inplace=True)\n",
    "cat_one_hot_df.shape"
   ]
  },
  {
   "cell_type": "code",
   "execution_count": 15,
   "metadata": {},
   "outputs": [],
   "source": [
    "#regularizes numerical columns\n",
    "numerical_df = telco_df[['tenure','MonthlyCharges','TotalCharges']]\n",
    "scaler = StandardScaler()\n",
    "numerical_array = scaler.fit_transform(numerical_df)\n",
    "numerical_df = pd.DataFrame(numerical_array, columns = numerical_df.columns)\n",
    "numerical_df.reset_index(drop=True, inplace=True)\n"
   ]
  },
  {
   "cell_type": "code",
   "execution_count": 16,
   "metadata": {},
   "outputs": [
    {
     "data": {
      "text/plain": [
       "(7032, 45)"
      ]
     },
     "execution_count": 16,
     "metadata": {},
     "output_type": "execute_result"
    }
   ],
   "source": [
    "#combines dataframes\n",
    "numerical_df[cat_one_hot_df.columns] = cat_one_hot_df\n",
    "numerical_df.shape\n",
    "\n"
   ]
  },
  {
   "cell_type": "code",
   "execution_count": 17,
   "metadata": {},
   "outputs": [
    {
     "data": {
      "text/plain": [
       "((5274, 45), (1758, 45), (5274,), (1758,))"
      ]
     },
     "execution_count": 17,
     "metadata": {},
     "output_type": "execute_result"
    }
   ],
   "source": [
    "#splits data into training and testing data\n",
    "X_train, X_test, Y_train, Y_test = train_test_split(numerical_df, Y, test_size = 0.25, random_state = 50)\n",
    "X_train.shape, X_test.shape, Y_train.shape, Y_test.shape"
   ]
  },
  {
   "cell_type": "code",
   "execution_count": 18,
   "metadata": {},
   "outputs": [],
   "source": [
    "#saves dataframes to csv\n",
    "X_train.to_csv('X_train.csv', index = False)\n",
    "X_test.to_csv('X_test.csv', index = False)\n",
    "Y_train.to_csv('Y_train.csv', index = False)\n",
    "Y_test.to_csv('Y_test.csv', index = False)"
   ]
  },
  {
   "cell_type": "code",
   "execution_count": null,
   "metadata": {},
   "outputs": [],
   "source": []
  }
 ],
 "metadata": {
  "kernelspec": {
   "display_name": "base",
   "language": "python",
   "name": "python3"
  },
  "language_info": {
   "codemirror_mode": {
    "name": "ipython",
    "version": 3
   },
   "file_extension": ".py",
   "mimetype": "text/x-python",
   "name": "python",
   "nbconvert_exporter": "python",
   "pygments_lexer": "ipython3",
   "version": "3.11.5"
  }
 },
 "nbformat": 4,
 "nbformat_minor": 2
}
